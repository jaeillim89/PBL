{
 "cells": [
  {
   "cell_type": "markdown",
   "metadata": {},
   "source": [
    "# 주피터 노트북 사용법\n"
   ]
  },
  {
   "cell_type": "markdown",
   "metadata": {},
   "source": [
    "### 1. 주피터 노트북 단축기\n",
    "    - ctrl + enter  실행\n",
    "    - shift + enter 실행후 아래 셀 선택, 아래쪽에 셀이 없다면 셀 추가\n",
    "    - alt + enter   실행 후 아래쪽에 새로운 셀 추가 \n",
    "    - a 위쪽에 셀추가\n",
    "    - b 아래쪽에 셀추가 \n",
    "    - dd 셀 삭제 \n",
    "    - enter 명령모드에서 입력모드로 전환\n",
    "    - Esc  입력모드에서 명령모드로 전환 \n",
    "    - m 명령모드에서 셀타입을 마크다운으로 저장\n",
    "    - y 명령모드에서 셀 타입을 코드로 전환 \n",
    "    - ctrl + /  셀 편집영역에서 선택된 코드의 주석/ 비주석 처리 \n",
    "\n",
    "\n"
   ]
  },
  {
   "cell_type": "markdown",
   "metadata": {},
   "source": [
    "### 2. 마크다운 사용하기"
   ]
  },
  {
   "cell_type": "markdown",
   "metadata": {},
   "source": [
    "## 제목"
   ]
  },
  {
   "cell_type": "markdown",
   "metadata": {},
   "source": []
  },
  {
   "cell_type": "markdown",
   "metadata": {},
   "source": [
    "## 목록\n"
   ]
  },
  {
   "cell_type": "markdown",
   "metadata": {},
   "source": [
    "### 링크 \n"
   ]
  },
  {
   "cell_type": "code",
   "execution_count": null,
   "metadata": {},
   "outputs": [],
   "source": []
  },
  {
   "cell_type": "markdown",
   "metadata": {},
   "source": [
    "### 이미지 \n",
    "\n",
    "\n"
   ]
  },
  {
   "cell_type": "markdown",
   "metadata": {},
   "source": [
    "### 코드강조 \n",
    "\n",
    " \n",
    "\n",
    "\n"
   ]
  },
  {
   "cell_type": "markdown",
   "metadata": {},
   "source": [
    "####  인라인 코드 강조 "
   ]
  },
  {
   "cell_type": "markdown",
   "metadata": {},
   "source": [
    "#### 블록 코드강조"
   ]
  },
  {
   "cell_type": "markdown",
   "metadata": {},
   "source": []
  },
  {
   "cell_type": "markdown",
   "metadata": {},
   "source": [
    "### 표 \n",
    "\n",
    "- 헤더 셀을 구분할 때 3개 이상의 -(hyphen/dash) 기호가 필요합니다.\n",
    "- 헤더 셀을 구분하면서 :(Colons) 기호로 셀(열/칸) 안에 내용을 정렬할 수 있습니다.\n",
    "- 가장 좌측과 가장 우측에 있는 |(vertical bar) 기호는 생략 가능합니다.\n",
    "\n"
   ]
  },
  {
   "cell_type": "code",
   "execution_count": null,
   "metadata": {},
   "outputs": [],
   "source": []
  },
  {
   "cell_type": "markdown",
   "metadata": {},
   "source": [
    "### 인용문 \n"
   ]
  },
  {
   "cell_type": "markdown",
   "metadata": {},
   "source": [
    "### 수평선\n",
    "\n",
    "각 기호를 3개 이상 입력 \n",
    "\n",
    "--- \n",
    "\n",
    "***\n",
    "\n",
    "_____"
   ]
  },
  {
   "cell_type": "code",
   "execution_count": null,
   "metadata": {},
   "outputs": [],
   "source": []
  },
  {
   "cell_type": "markdown",
   "metadata": {},
   "source": [
    "# 파이썬 코딩 컨벤션\n",
    "* 명확한 규칙은 없음\n",
    "* 때로는 팀마다, 프로젝트마다 따로\n",
    "* 중요한 건 일관성!!! \n",
    "* 읽기 좋은 코드가 좋은 코드 \n",
    "\n",
    "## 예시\n",
    "* 들여쓰기 Tab 또는 4 Space!!  \n",
    "* 일반적으로 4 Space를 권장함\n",
    "* 중요한 건 혼합하지 않으면 됨!! \n",
    "\n",
    "## PEP8 - 파이썬 코딩 컨벤션의 기준 \n",
    "* PEP(Python Enhance Proposal)\n",
    "* 파이썬 개선을 위한 제안서\n",
    "* PEP 8은 파이썬 코딩의 기준을 제시 \n",
    "    * 들여쓰기 공백 4칸을 권장\n",
    "    * 한 줄은 최대 79자까지\n",
    "    * 불필요한 공백은 피함  ex) def func( n )   - n 앞 뒤 공백같은것!! \n",
    "    * = 연산자는 1칸 이상 안 띄움 ex) a = 1  (0) a  = 1 (x) \n",
    "    * 주석은 항상 갱신, 불필요한 주석은 삭제\n",
    "    * 소문자 l, 대문자 O, 대문자 I 금지!! \n",
    "    * 함수명은 소문자로 구성, 필요하면 밑줄로 나눔\n",
    "    * \"flake8\" 모듈로 체크 - flake8 <파일명>\n",
    "    * conda install -c anaconda flake8  \n",
    "\n",
    "# 함수 작성 가이드 라인 \n",
    "\n",
    "   * 함수는 가능하면 짧게 작성할 것\n",
    "   * 함수 이름에 함수의 역할, 의도가 명확히 들어낼 것 \n",
    "   * 하나의 함수에는 유사한 역할을 하는 코드만 포함\n",
    "   * 인자로 받은 값 자체를 바꾸진 말 것 (임시변수 선언해서 사용) \n",
    "   \n",
    "  ## 함수는 언제 만드는가?\n",
    "  * 공통적으로 사용되는 코드는 함수로 변환\n",
    "  * 복잡한 수식 -> 식별 가능한 이름의 함수로 변환\n",
    "  * 복잡한 조건 -> 식별 가능한 이름의 함수로 변환 \n",
    "  \n",
    "  \n"
   ]
  }
 ],
 "metadata": {
  "kernelspec": {
   "display_name": "Python 3",
   "language": "python",
   "name": "python3"
  },
  "language_info": {
   "codemirror_mode": {
    "name": "ipython",
    "version": 3
   },
   "file_extension": ".py",
   "mimetype": "text/x-python",
   "name": "python",
   "nbconvert_exporter": "python",
   "pygments_lexer": "ipython3",
   "version": "3.7.6"
  }
 },
 "nbformat": 4,
 "nbformat_minor": 4
}
